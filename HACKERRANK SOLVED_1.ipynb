{
 "cells": [
  {
   "cell_type": "markdown",
   "id": "9fddb540",
   "metadata": {},
   "source": [
    "Consider the following:\n",
    "\n",
    "A string,s, of length n, where . An integer,k, where k is a factor of n. We can split into n/k substrings where each subtring,ti, consists of a contiguous block of k characters in s. Then, use each ti to create string ui such that:\n",
    "\n",
    "The characters in ui are a subsequence of the characters in ti. Any repeat occurrence of a character is removed from the string such that each character in ui occurs exactly once. In other words, if the character at some index j in ti occurs at a previous index <j in ti, then do not include the character in string ui . Given s and k, print n/k lines where each line i denotes string ui.\n",
    "\n",
    "Example s=\"AAABCADDE\" k=3\n",
    "\n",
    "There are three substrings of length to consider: 'AAA', 'BCA' and 'DDE'. The first substring is all 'A' characters, so u1='A'. The second substring has all distinct characters, so u2='BCA'. The third substring has different characters, so u3='DE' . Note that a subsequence maintains the original order of characters encountered. The order of characters in each subsequence shown is important.\n",
    "\n",
    "Function Description\n",
    "\n",
    "Complete the merge_the_tools function in the editor below.\n",
    "\n",
    "merge_the_tools has the following parameters:\n",
    "\n",
    "string s: the string to analyze int k: the size of substrings to analyze Prints\n",
    "\n",
    "Print each subsequence on a new line. There will be n/k of them. No return value is expected.\n",
    "\n",
    "Input Format\n",
    "\n",
    "The first line contains a single string,s. The second line contains an integer,k, the length of each substring.\n",
    "\n",
    "Constraints It is guaranteed that n is a multiple of k\n",
    "\n",
    "STDIN Function\n",
    "\n",
    "AABCAAADA s = 'AABCAAADA' 3 k = 3 \n",
    "Sample Output\n",
    "\n",
    "AB CA AD\n",
    "\n"
   ]
  },
  {
   "cell_type": "markdown",
   "id": "c82a8c65",
   "metadata": {},
   "source": [
    "Explanation\n",
    "\n",
    "Split s into n/k=9/3=3 equal parts of length k=3. Convert each ti to ui  by removing any subsequent occurrences of non-distinct characters in ti :\n",
    "1.t1=\"AAB\" -->u1=\"AB\"\n",
    "2.t2=\"CAA\" -->u2=\"CA\"\n",
    "3.t3=\"ADA\" -->u3=\"AD\"\n",
    "Print each ui on a new line"
   ]
  },
  {
   "cell_type": "code",
   "execution_count": 1,
   "id": "020d3719",
   "metadata": {},
   "outputs": [
    {
     "name": "stdout",
     "output_type": "stream",
     "text": [
      "enter the string:AABCAAADA\n",
      "enter the number which should be factor of length of string:3\n",
      "u 1 = AB\n",
      "u 2 = CA\n",
      "u 3 = AD\n"
     ]
    }
   ],
   "source": [
    "def merge_the_tools(string, k): # Working\n",
    "    i=0\n",
    "    p=1\n",
    "    \n",
    "    while i<len(string):\n",
    "        tp=string[i:i+k]\n",
    "        up=str()\n",
    "        for j in range(k):\n",
    "            if tp[j] not in up:\n",
    "                up=up+tp[j]\n",
    "            else:\n",
    "                continue\n",
    "        i+=k\n",
    "        print(\"u\",p,\"=\",up)\n",
    "        p+=1\n",
    "string=input(\"enter the string:\")\n",
    "k=int(input(\"enter the number which should be factor of length of string:\"))\n",
    "if len(string)%k==0:\n",
    "    merge_the_tools(string,k)\n",
    "else:\n",
    "    print(\"enter the k value as mentioned above\")\n"
   ]
  },
  {
   "cell_type": "code",
   "execution_count": null,
   "id": "ffb5a324",
   "metadata": {},
   "outputs": [],
   "source": []
  }
 ],
 "metadata": {
  "kernelspec": {
   "display_name": "Python 3 (ipykernel)",
   "language": "python",
   "name": "python3"
  },
  "language_info": {
   "codemirror_mode": {
    "name": "ipython",
    "version": 3
   },
   "file_extension": ".py",
   "mimetype": "text/x-python",
   "name": "python",
   "nbconvert_exporter": "python",
   "pygments_lexer": "ipython3",
   "version": "3.9.7"
  }
 },
 "nbformat": 4,
 "nbformat_minor": 5
}
